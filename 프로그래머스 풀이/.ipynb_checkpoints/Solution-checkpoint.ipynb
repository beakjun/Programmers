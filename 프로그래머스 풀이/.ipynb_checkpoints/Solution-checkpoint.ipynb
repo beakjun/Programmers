{
 "cells": [
  {
   "cell_type": "markdown",
   "metadata": {},
   "source": [
    "## 같은 숫자는 싫어"
   ]
  },
  {
   "cell_type": "markdown",
   "metadata": {},
   "source": [
    "#### 문제 설명 \n",
    "배열 arr가 주어집니다. 배열 arr의 각 원소는 숫자 0부터 9까지로 이루어져 있습니다. 이때, 배열 arr에서 연속적으로 나타나는 숫자는 하나만 남기고 전부 제거하려고 합니다. 단, 제거된 후 남은 수들을 반환할 때는 배열 arr의 원소들의 순서를 유지해야 합니다. <br>\n",
    "예를 들면,\n",
    "* arr = [1, 1, 3, 3, 0, 1, 1] 이면 [1, 3, 0, 1] 을 return 합니다.\n",
    "* arr = [4, 4, 4, 3, 3] 이면 [4, 3] 을 return 합니다.\n",
    "배열 arr에서 연속적으로 나타나는 숫자는 제거하고 남은 수들을 return 하는 solution 함수를 완성해 주세요.\n",
    "\n",
    "#### 제한사항\n",
    "* 배열 arr의 크기 : 1,000,000 이하의 자연수\n",
    "* 배열 arr의 원소의 크기 : 0보다 크거나 같고 9보다 작거나 같은 정수</br>\n",
    "\n",
    "#### 예제\n",
    "\n",
    "|arr|answer|\n",
    "|:--|:-----|\n",
    "|[1,1,3,3,0,1,1]|[1,3,0,1]|\n",
    "|[4,4,4,3,3]|[4,3]|\n"
   ]
  },
  {
   "cell_type": "code",
   "execution_count": 4,
   "metadata": {},
   "outputs": [],
   "source": [
    "def solution(arr):\n",
    "    answer = []\n",
    "    for i in range(len(arr)): # arr 원소들을 돌다ㅏ가\n",
    "        if i==len(arr)-1:  # 끝에 다다르면\n",
    "            answer.append(arr[i]) # 그 끝에 원소를 답에\n",
    "            break # 멈춘다\n",
    "        if arr[i]!=arr[i+1]: # i번째 원소와 i+1번째 원소가 다르면\n",
    "            answer.append(arr[i]) # i번째 원소를 답에 추가한다.\n",
    "\n",
    "        \n",
    "    return answer"
   ]
  },
  {
   "cell_type": "code",
   "execution_count": 7,
   "metadata": {},
   "outputs": [
    {
     "name": "stdout",
     "output_type": "stream",
     "text": [
      "[1, 3, 0, 1] [4, 3]\n"
     ]
    }
   ],
   "source": [
    "arr1=[1,1,3,3,0,1,1]\n",
    "arr2=[4,4,4,3,3]\n",
    "print(solution(arr1),solution(arr2))"
   ]
  },
  {
   "cell_type": "code",
   "execution_count": null,
   "metadata": {},
   "outputs": [],
   "source": []
  }
 ],
 "metadata": {
  "kernelspec": {
   "display_name": "Python 3",
   "language": "python",
   "name": "python3"
  },
  "language_info": {
   "codemirror_mode": {
    "name": "ipython",
    "version": 3
   },
   "file_extension": ".py",
   "mimetype": "text/x-python",
   "name": "python",
   "nbconvert_exporter": "python",
   "pygments_lexer": "ipython3",
   "version": "3.8.3"
  }
 },
 "nbformat": 4,
 "nbformat_minor": 4
}
